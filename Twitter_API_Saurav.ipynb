{
 "cells": [
  {
   "cell_type": "code",
   "execution_count": 5,
   "metadata": {},
   "outputs": [
    {
     "name": "stdout",
     "output_type": "stream",
     "text": [
      "Collecting package metadata: ...working... done\n",
      "Solving environment: ...working... done\n",
      "\n",
      "## Package Plan ##\n",
      "\n",
      "  environment location: C:\\Users\\acer\\Anaconda3\n",
      "\n",
      "  added / updated specs:\n",
      "    - textblob\n",
      "\n",
      "\n",
      "The following packages will be downloaded:\n",
      "\n",
      "    package                    |            build\n",
      "    ---------------------------|-----------------\n",
      "    certifi-2019.3.9           |           py37_0         149 KB  conda-forge\n",
      "    conda-4.8.3                |   py37hc8dfbb8_1         3.1 MB  conda-forge\n",
      "    conda-package-handling-1.6.0|   py37h702c6c1_2         691 KB  conda-forge\n",
      "    python_abi-3.7             |          1_cp37m           4 KB  conda-forge\n",
      "    textblob-0.15.3            |             py_0         595 KB  conda-forge\n",
      "    ------------------------------------------------------------\n",
      "                                           Total:         4.5 MB\n",
      "\n",
      "The following NEW packages will be INSTALLED:\n",
      "\n",
      "  conda-package-han~ conda-forge/win-64::conda-package-handling-1.6.0-py37h702c6c1_2\n",
      "  python_abi         conda-forge/win-64::python_abi-3.7-1_cp37m\n",
      "  textblob           conda-forge/noarch::textblob-0.15.3-py_0\n",
      "\n",
      "The following packages will be UPDATED:\n",
      "\n",
      "  conda                      pkgs/main::conda-4.6.11-py37_0 --> conda-forge::conda-4.8.3-py37hc8dfbb8_1\n",
      "\n",
      "The following packages will be SUPERSEDED by a higher-priority channel:\n",
      "\n",
      "  certifi                                         pkgs/main --> conda-forge\n",
      "\n",
      "\n",
      "\n",
      "Downloading and Extracting Packages\n",
      "\n",
      "certifi-2019.3.9     | 149 KB    |            |   0% \n",
      "certifi-2019.3.9     | 149 KB    | 8          |   8% \n",
      "certifi-2019.3.9     | 149 KB    | #######5   |  75% \n",
      "certifi-2019.3.9     | 149 KB    | ########## | 100% \n",
      "\n",
      "textblob-0.15.3      | 595 KB    |            |   0% \n",
      "textblob-0.15.3      | 595 KB    | 2          |   2% \n",
      "textblob-0.15.3      | 595 KB    | ##4        |  24% \n",
      "textblob-0.15.3      | 595 KB    | ####8      |  48% \n",
      "textblob-0.15.3      | 595 KB    | #######    |  71% \n",
      "textblob-0.15.3      | 595 KB    | #########  |  90% \n",
      "textblob-0.15.3      | 595 KB    | ########## | 100% \n",
      "\n",
      "python_abi-3.7       | 4 KB      |            |   0% \n",
      "python_abi-3.7       | 4 KB      | ########## | 100% \n",
      "\n",
      "conda-4.8.3          | 3.1 MB    |            |   0% \n",
      "conda-4.8.3          | 3.1 MB    |            |   0% \n",
      "conda-4.8.3          | 3.1 MB    | 3          |   4% \n",
      "conda-4.8.3          | 3.1 MB    | 8          |   8% \n",
      "conda-4.8.3          | 3.1 MB    | #2         |  12% \n",
      "conda-4.8.3          | 3.1 MB    | #6         |  17% \n",
      "conda-4.8.3          | 3.1 MB    | ##1        |  21% \n",
      "conda-4.8.3          | 3.1 MB    | ##5        |  26% \n",
      "conda-4.8.3          | 3.1 MB    | ###        |  31% \n",
      "conda-4.8.3          | 3.1 MB    | ###5       |  35% \n",
      "conda-4.8.3          | 3.1 MB    | ###9       |  40% \n",
      "conda-4.8.3          | 3.1 MB    | ####4      |  44% \n",
      "conda-4.8.3          | 3.1 MB    | ####8      |  49% \n",
      "conda-4.8.3          | 3.1 MB    | #####3     |  53% \n",
      "conda-4.8.3          | 3.1 MB    | #####8     |  58% \n",
      "conda-4.8.3          | 3.1 MB    | ######2    |  63% \n",
      "conda-4.8.3          | 3.1 MB    | ######7    |  68% \n",
      "conda-4.8.3          | 3.1 MB    | #######3   |  73% \n",
      "conda-4.8.3          | 3.1 MB    | #######7   |  78% \n",
      "conda-4.8.3          | 3.1 MB    | ########2  |  82% \n",
      "conda-4.8.3          | 3.1 MB    | ########8  |  88% \n",
      "conda-4.8.3          | 3.1 MB    | #########2 |  93% \n",
      "conda-4.8.3          | 3.1 MB    | #########6 |  96% \n",
      "conda-4.8.3          | 3.1 MB    | ########## | 100% \n",
      "\n",
      "conda-package-handli | 691 KB    |            |   0% \n",
      "conda-package-handli | 691 KB    | 1          |   2% \n",
      "conda-package-handli | 691 KB    | ##         |  21% \n",
      "conda-package-handli | 691 KB    | ####1      |  42% \n",
      "conda-package-handli | 691 KB    | ######2    |  63% \n",
      "conda-package-handli | 691 KB    | ########4  |  85% \n",
      "conda-package-handli | 691 KB    | ########## | 100% \n",
      "Preparing transaction: ...working... done\n",
      "Verifying transaction: ...working... done\n",
      "Executing transaction: ...working... done\n",
      "\n",
      "(base) C:\\Users\\acer>ET _sysp=%~dpA \n",
      "\n",
      "(base) C:\\Users\\acer>IF NOT EXIST \"!_sysp!\\Scripts\\conda.exe\" \n",
      "Collecting package metadata (repodata.json): ...working... done\n",
      "Solving environment: ...working... \n",
      "The environment is inconsistent, please check the package plan carefully\n",
      "The following packages are causing the inconsistency:\n",
      "\n",
      "  - defaults/win-64::anaconda==2019.03=py37_0\n",
      "  - defaults/win-64::numba==0.43.1=py37hf9181ef_0\n",
      "done\n",
      "\n",
      "## Package Plan ##\n",
      "\n",
      "  environment location: C:\\Users\\acer\\Anaconda3\n",
      "\n",
      "  added / updated specs:\n",
      "    - textblob\n",
      "\n",
      "\n",
      "The following packages will be downloaded:\n",
      "\n",
      "    package                    |            build\n",
      "    ---------------------------|-----------------\n",
      "    _anaconda_depends-2019.10  |           py37_0           5 KB\n",
      "    anaconda-custom            |           py37_1           2 KB\n",
      "    ca-certificates-2020.6.20  |       hecda079_0         184 KB  conda-forge\n",
      "    certifi-2020.6.20          |   py37hc8dfbb8_0         151 KB  conda-forge\n",
      "    fsspec-0.8.0               |             py_0          61 KB  conda-forge\n",
      "    joblib-0.16.0              |             py_0         203 KB  conda-forge\n",
      "    json5-0.9.4                |     pyh9f0ad1d_0          20 KB  conda-forge\n",
      "    mock-4.0.2                 |   py37hc8dfbb8_0          50 KB  conda-forge\n",
      "    openssl-1.1.1f             |       hfa6e2cd_0         4.7 MB  conda-forge\n",
      "    sphinxcontrib-applehelp-1.0.2|             py_0          28 KB  conda-forge\n",
      "    sphinxcontrib-devhelp-1.0.2|             py_0          22 KB  conda-forge\n",
      "    sphinxcontrib-htmlhelp-1.0.3|             py_0          27 KB  conda-forge\n",
      "    sphinxcontrib-jsmath-1.0.1 |             py_0           7 KB  conda-forge\n",
      "    sphinxcontrib-qthelp-1.0.3 |             py_0          25 KB  conda-forge\n",
      "    sphinxcontrib-serializinghtml-1.1.4|             py_0          24 KB  conda-forge\n",
      "    tbb-2020.1                 |       he980bc4_0         167 KB  conda-forge\n",
      "    ------------------------------------------------------------\n",
      "                                           Total:         5.7 MB\n",
      "\n",
      "The following NEW packages will be INSTALLED:\n",
      "\n",
      "  _anaconda_depends  pkgs/main/win-64::_anaconda_depends-2019.10-py37_0\n",
      "  fsspec             conda-forge/noarch::fsspec-0.8.0-py_0\n",
      "  joblib             conda-forge/noarch::joblib-0.16.0-py_0\n",
      "  json5              conda-forge/noarch::json5-0.9.4-pyh9f0ad1d_0\n",
      "  mock               conda-forge/win-64::mock-4.0.2-py37hc8dfbb8_0\n",
      "  sphinxcontrib-app~ conda-forge/noarch::sphinxcontrib-applehelp-1.0.2-py_0\n",
      "  sphinxcontrib-dev~ conda-forge/noarch::sphinxcontrib-devhelp-1.0.2-py_0\n",
      "  sphinxcontrib-htm~ conda-forge/noarch::sphinxcontrib-htmlhelp-1.0.3-py_0\n",
      "  sphinxcontrib-jsm~ conda-forge/noarch::sphinxcontrib-jsmath-1.0.1-py_0\n",
      "  sphinxcontrib-qth~ conda-forge/noarch::sphinxcontrib-qthelp-1.0.3-py_0\n",
      "  sphinxcontrib-ser~ conda-forge/noarch::sphinxcontrib-serializinghtml-1.1.4-py_0\n",
      "  tbb                conda-forge/win-64::tbb-2020.1-he980bc4_0\n",
      "\n",
      "The following packages will be UPDATED:\n",
      "\n",
      "  ca-certificates    pkgs/main::ca-certificates-2019.1.23-0 --> conda-forge::ca-certificates-2020.6.20-hecda079_0\n",
      "  certifi                                   2019.3.9-py37_0 --> 2020.6.20-py37hc8dfbb8_0\n",
      "  openssl              pkgs/main::openssl-1.1.1b-he774522_1 --> conda-forge::openssl-1.1.1f-hfa6e2cd_0\n",
      "\n",
      "The following packages will be DOWNGRADED:\n",
      "\n",
      "  anaconda                                   2019.03-py37_0 --> custom-py37_1\n",
      "\n",
      "\n",
      "\n",
      "Downloading and Extracting Packages\n",
      "\n",
      "tbb-2020.1           | 167 KB    |            |   0% \n",
      "tbb-2020.1           | 167 KB    | 9          |  10% \n",
      "tbb-2020.1           | 167 KB    | #########5 |  96% \n",
      "tbb-2020.1           | 167 KB    | ########## | 100% \n",
      "\n",
      "joblib-0.16.0        | 203 KB    |            |   0% \n",
      "joblib-0.16.0        | 203 KB    | ###9       |  39% \n",
      "joblib-0.16.0        | 203 KB    | ########## | 100% \n",
      "\n",
      "ca-certificates-2020 | 184 KB    |            |   0% \n",
      "ca-certificates-2020 | 184 KB    | ##6        |  26% \n",
      "ca-certificates-2020 | 184 KB    | ########## | 100% \n",
      "\n",
      "mock-4.0.2           | 50 KB     |            |   0% \n",
      "mock-4.0.2           | 50 KB     | ###1       |  32% \n",
      "mock-4.0.2           | 50 KB     | ########## | 100% \n",
      "\n",
      "sphinxcontrib-appleh | 28 KB     |            |   0% \n",
      "sphinxcontrib-appleh | 28 KB     | ########## | 100% \n",
      "\n",
      "sphinxcontrib-serial | 24 KB     |            |   0% \n",
      "sphinxcontrib-serial | 24 KB     | ######6    |  67% \n",
      "sphinxcontrib-serial | 24 KB     | ########## | 100% \n",
      "\n",
      "certifi-2020.6.20    | 151 KB    |            |   0% \n",
      "certifi-2020.6.20    | 151 KB    | ###1       |  32% \n",
      "certifi-2020.6.20    | 151 KB    | ########## | 100% \n",
      "\n",
      "openssl-1.1.1f       | 4.7 MB    |            |   0% \n",
      "openssl-1.1.1f       | 4.7 MB    | 1          |   2% \n",
      "openssl-1.1.1f       | 4.7 MB    | 5          |   6% \n",
      "openssl-1.1.1f       | 4.7 MB    | #          |  10% \n",
      "openssl-1.1.1f       | 4.7 MB    | #4         |  14% \n",
      "openssl-1.1.1f       | 4.7 MB    | #7         |  18% \n",
      "openssl-1.1.1f       | 4.7 MB    | ##1        |  22% \n",
      "openssl-1.1.1f       | 4.7 MB    | ##5        |  26% \n",
      "openssl-1.1.1f       | 4.7 MB    | ##9        |  30% \n",
      "openssl-1.1.1f       | 4.7 MB    | ###4       |  34% \n",
      "openssl-1.1.1f       | 4.7 MB    | ###8       |  38% \n",
      "openssl-1.1.1f       | 4.7 MB    | ####2      |  42% \n",
      "openssl-1.1.1f       | 4.7 MB    | ####6      |  46% \n",
      "openssl-1.1.1f       | 4.7 MB    | #####      |  50% \n",
      "openssl-1.1.1f       | 4.7 MB    | #####4     |  54% \n",
      "openssl-1.1.1f       | 4.7 MB    | #####7     |  58% \n",
      "openssl-1.1.1f       | 4.7 MB    | ######1    |  61% \n",
      "openssl-1.1.1f       | 4.7 MB    | ######5    |  66% \n",
      "openssl-1.1.1f       | 4.7 MB    | ######9    |  70% \n",
      "openssl-1.1.1f       | 4.7 MB    | #######3   |  73% \n",
      "openssl-1.1.1f       | 4.7 MB    | #######6   |  77% \n",
      "openssl-1.1.1f       | 4.7 MB    | ########1  |  81% \n",
      "openssl-1.1.1f       | 4.7 MB    | ########5  |  85% \n",
      "openssl-1.1.1f       | 4.7 MB    | ########9  |  89% \n",
      "openssl-1.1.1f       | 4.7 MB    | #########2 |  93% \n",
      "openssl-1.1.1f       | 4.7 MB    | #########6 |  96% \n",
      "openssl-1.1.1f       | 4.7 MB    | ########## | 100% \n",
      "\n",
      "sphinxcontrib-devhel | 22 KB     |            |   0% \n",
      "sphinxcontrib-devhel | 22 KB     | #######1   |  71% \n",
      "sphinxcontrib-devhel | 22 KB     | ########## | 100% \n",
      "\n",
      "sphinxcontrib-jsmath | 7 KB      |            |   0% \n",
      "sphinxcontrib-jsmath | 7 KB      | ########## | 100% \n",
      "\n",
      "sphinxcontrib-qthelp | 25 KB     |            |   0% \n",
      "sphinxcontrib-qthelp | 25 KB     | ######3    |  64% \n",
      "sphinxcontrib-qthelp | 25 KB     | ########## | 100% \n",
      "\n",
      "_anaconda_depends-20 | 5 KB      |            |   0% \n",
      "_anaconda_depends-20 | 5 KB      | ########## | 100% \n",
      "\n",
      "sphinxcontrib-htmlhe | 27 KB     |            |   0% \n",
      "sphinxcontrib-htmlhe | 27 KB     | ########## | 100% \n",
      "\n",
      "fsspec-0.8.0         | 61 KB     |            |   0% \n",
      "fsspec-0.8.0         | 61 KB     | ##6        |  26% \n",
      "fsspec-0.8.0         | 61 KB     | ########## | 100% \n",
      "\n",
      "json5-0.9.4          | 20 KB     |            |   0% \n",
      "json5-0.9.4          | 20 KB     | #######9   |  79% \n",
      "json5-0.9.4          | 20 KB     | ########## | 100% \n",
      "\n",
      "anaconda-custom      | 2 KB      |            |   0% \n",
      "anaconda-custom      | 2 KB      | ########## | 100% \n",
      "Preparing transaction: ...working... done\n",
      "Verifying transaction: ...working... done\n",
      "Executing transaction: ...working... done\n",
      "\n",
      "Note: you may need to restart the kernel to use updated packages.\n"
     ]
    },
    {
     "name": "stderr",
     "output_type": "stream",
     "text": [
      "WARNING: The conda.compat module is deprecated and will be removed in a future release.\n",
      "\n",
      "\n",
      "==> WARNING: A newer version of conda exists. <==\n",
      "  current version: 4.6.11\n",
      "  latest version: 4.8.3\n",
      "\n",
      "Please update conda by running\n",
      "\n",
      "    $ conda update -n base -c defaults conda\n",
      "\n",
      "\n",
      "'ET' is not recognized as an internal or external command,\n",
      "operable program or batch file.\n"
     ]
    }
   ],
   "source": [
    "conda install -c conda-forge textblob"
   ]
  },
  {
   "cell_type": "code",
   "execution_count": 1,
   "metadata": {},
   "outputs": [],
   "source": [
    "from textblob import TextBlob"
   ]
  },
  {
   "cell_type": "code",
   "execution_count": 2,
   "metadata": {},
   "outputs": [],
   "source": [
    "review = 'Camera quality is not very good'\n",
    "review1 = 'camera have excellent features'"
   ]
  },
  {
   "cell_type": "code",
   "execution_count": 3,
   "metadata": {},
   "outputs": [],
   "source": [
    "analysis = TextBlob(review1) "
   ]
  },
  {
   "cell_type": "code",
   "execution_count": 4,
   "metadata": {},
   "outputs": [
    {
     "data": {
      "text/plain": [
       "1.0"
      ]
     },
     "execution_count": 4,
     "metadata": {},
     "output_type": "execute_result"
    }
   ],
   "source": [
    "analysis.polarity"
   ]
  },
  {
   "cell_type": "code",
   "execution_count": 7,
   "metadata": {},
   "outputs": [
    {
     "name": "stdout",
     "output_type": "stream",
     "text": [
      "Collecting package metadata (repodata.json): ...working... done\n",
      "Solving environment: ...working... done\n",
      "\n",
      "## Package Plan ##\n",
      "\n",
      "  environment location: C:\\Users\\acer\\Anaconda3\n",
      "\n",
      "  added / updated specs:\n",
      "    - tweepy\n",
      "\n",
      "\n",
      "The following packages will be downloaded:\n",
      "\n",
      "    package                    |            build\n",
      "    ---------------------------|-----------------\n",
      "    blinker-1.4                |             py_1          13 KB  conda-forge\n",
      "    oauthlib-3.0.1             |             py_0          82 KB  conda-forge\n",
      "    pyjwt-1.7.1                |             py_0          17 KB  conda-forge\n",
      "    requests-oauthlib-1.3.0    |     pyh9f0ad1d_0          21 KB  conda-forge\n",
      "    tweepy-3.9.0               |     pyh9f0ad1d_0          28 KB  conda-forge\n",
      "    ------------------------------------------------------------\n",
      "                                           Total:         161 KB\n",
      "\n",
      "The following NEW packages will be INSTALLED:\n",
      "\n",
      "  blinker            conda-forge/noarch::blinker-1.4-py_1\n",
      "  oauthlib           conda-forge/noarch::oauthlib-3.0.1-py_0\n",
      "  pyjwt              conda-forge/noarch::pyjwt-1.7.1-py_0\n",
      "  requests-oauthlib  conda-forge/noarch::requests-oauthlib-1.3.0-pyh9f0ad1d_0\n",
      "  tweepy             conda-forge/noarch::tweepy-3.9.0-pyh9f0ad1d_0\n",
      "\n",
      "\n",
      "\n",
      "Downloading and Extracting Packages\n",
      "\n",
      "blinker-1.4          | 13 KB     |            |   0% \n",
      "blinker-1.4          | 13 KB     | ########## | 100% \n",
      "\n",
      "oauthlib-3.0.1       | 82 KB     |            |   0% \n",
      "oauthlib-3.0.1       | 82 KB     | ###8       |  39% \n",
      "oauthlib-3.0.1       | 82 KB     | ########## | 100% \n",
      "\n",
      "requests-oauthlib-1. | 21 KB     |            |   0% \n",
      "requests-oauthlib-1. | 21 KB     | #######6   |  77% \n",
      "requests-oauthlib-1. | 21 KB     | ########## | 100% \n",
      "\n",
      "pyjwt-1.7.1          | 17 KB     |            |   0% \n",
      "pyjwt-1.7.1          | 17 KB     | #########1 |  92% \n",
      "pyjwt-1.7.1          | 17 KB     | ########## | 100% \n",
      "\n",
      "tweepy-3.9.0         | 28 KB     |            |   0% \n",
      "tweepy-3.9.0         | 28 KB     | ########## | 100% \n",
      "Preparing transaction: ...working... done\n",
      "Verifying transaction: ...working... done\n",
      "Executing transaction: ...working... done\n",
      "\n",
      "Note: you may need to restart the kernel to use updated packages.\n"
     ]
    }
   ],
   "source": [
    "conda install -c conda-forge tweepy"
   ]
  },
  {
   "cell_type": "code",
   "execution_count": 8,
   "metadata": {},
   "outputs": [],
   "source": [
    "import re \n",
    "import tweepy \n",
    "from tweepy import OAuthHandler  # twitter app authentication\n",
    "from textblob import TextBlob \n",
    "import pandas as pd\n",
    "import matplotlib.pyplot as plt\n",
    "%matplotlib inline"
   ]
  },
  {
   "cell_type": "code",
   "execution_count": 15,
   "metadata": {},
   "outputs": [],
   "source": [
    "consumer_key = 'jv3qjuOil2qzjIeHA7Myu45oW'\n",
    "consumer_secret = 'kJAcdUjhC0SFc8BmEivCHYzeFopLkoNZiCS9dbRTtIQsSSQOIt'\n",
    "access_token = '720929143-z32ICi6B9Jx53dara3SMxjJyQyMRNTndJaslnzon'\n",
    "access_token_secret = 'JjdvOEAALwsaffHAlvOchWhnxHphVVjwwPz346edFNS2i'"
   ]
  },
  {
   "cell_type": "code",
   "execution_count": 16,
   "metadata": {},
   "outputs": [],
   "source": [
    "# attempt authentication \n",
    "\n",
    "# create OAuthHandler object \n",
    "auth = OAuthHandler(consumer_key, consumer_secret) \n",
    "    \n",
    "# set access token and secret \n",
    "auth.set_access_token(access_token, access_token_secret) \n",
    "    \n",
    "# create tweepy API object to fetch tweets \n",
    "api = tweepy.API(auth,wait_on_rate_limit=True) "
   ]
  },
  {
   "cell_type": "code",
   "execution_count": 17,
   "metadata": {},
   "outputs": [],
   "source": [
    "# 1. removing @username\n",
    "# 2. tabs \n",
    "# 3. non words and other spaces\n",
    "def clean_tweet(tweet): \n",
    "    ''' \n",
    "        Utility function to clean tweet text by removing links, special characters \n",
    "        using simple regex statements. \n",
    "    '''\n",
    "    return ' '.join(re.sub(\"(@[A-Za-z0-9]+)|([^0-9A-Za-z \\t])|(\\w+:\\/\\/\\S+)\", \"\", tweet).split()) "
   ]
  },
  {
   "cell_type": "code",
   "execution_count": 18,
   "metadata": {},
   "outputs": [],
   "source": [
    "# Using text blob from above, we calculate the polarity score\n",
    "# textblob has a corpus of positive, negative and neutral words\n",
    "# It checks for the presence of these words in the document and calculates the overall\n",
    "# polarity\n",
    "\n",
    "def get_tweet_sentiment(tweet): \n",
    "    ''' \n",
    "    Utility function to classify sentiment of passed tweet \n",
    "    using textblob's sentiment method \n",
    "    '''\n",
    "    # create TextBlob object of passed tweet text \n",
    "    analysis = TextBlob(clean_tweet(tweet)) \n",
    "    # set sentiment \n",
    "    if analysis.sentiment.polarity > 0: \n",
    "        return 'positive'\n",
    "    elif analysis.sentiment.polarity == 0: \n",
    "        return 'neutral'\n",
    "    else: \n",
    "        return 'negative'"
   ]
  },
  {
   "cell_type": "code",
   "execution_count": 89,
   "metadata": {},
   "outputs": [],
   "source": [
    "# empty list to store parsed tweets \n",
    "tweets = [] \n",
    "\n",
    "# call twitter api to fetch tweets \n",
    "# count = 20\n",
    "# The number of tweets to return per page, up to a maximum of 100. \n",
    "# Defaults to 15.\n",
    "# This restriction is due to a security update from the Twitter API\n",
    "# We will get rid of this limitation using the new \n",
    "# tweepy.Cursor() method\n",
    "\n",
    "#fetched_tweets = api.search(q = \"chidambaram\", count = 100)\n",
    "fetched_tweets=tweepy.Cursor(api.search,q=\"Binod\").items(100)\n",
    "\n",
    "# parsing tweets one by one \n",
    "for tweet in fetched_tweets: \n",
    "    # empty dictionary to store required params of a tweet \n",
    "    parsed_tweet = {} \n",
    "\n",
    "    # saving text of tweet \n",
    "    parsed_tweet['text'] = tweet.text\n",
    "\n",
    "    \n",
    "    # saving sentiment of tweet \n",
    "    parsed_tweet['sentiment'] = get_tweet_sentiment(tweet=clean_tweet(tweet.text)) \n",
    "\n",
    "    # appending parsed tweet to tweets list \n",
    "    if tweet.retweet_count > 0: \n",
    "        # if tweet has retweets, ensure that it is appended only once \n",
    "        if parsed_tweet not in tweets: \n",
    "            tweets.append(parsed_tweet) \n",
    "    else: \n",
    "        tweets.append(parsed_tweet) "
   ]
  },
  {
   "cell_type": "code",
   "execution_count": 91,
   "metadata": {},
   "outputs": [
    {
     "data": {
      "text/plain": [
       "100"
      ]
     },
     "execution_count": 91,
     "metadata": {},
     "output_type": "execute_result"
    }
   ],
   "source": [
    "len(tweets)"
   ]
  },
  {
   "cell_type": "code",
   "execution_count": 92,
   "metadata": {},
   "outputs": [
    {
     "data": {
      "text/plain": [
       "[{'text': 'Yeh binod kon hai https://t.co/qUFFZXgtki', 'sentiment': 'neutral'},\n",
       " {'text': '@innerchildjoo binod', 'sentiment': 'neutral'},\n",
       " {'text': \"Can y'all tell me who is binod?😏 https://t.co/RnF0Bske4i\",\n",
       "  'sentiment': 'neutral'},\n",
       " {'text': '#binod #mickey1702 #meme #memes #india #indianmemes\\nBinod kon hai? 😂 https://t.co/8LR0kLoLbB',\n",
       "  'sentiment': 'neutral'},\n",
       " {'text': 'RT @thewittydoctor_: Binod is a medical student 😯\\n#medtwitter https://t.co/y9BUmMOnQh',\n",
       "  'sentiment': 'neutral'}]"
      ]
     },
     "execution_count": 92,
     "metadata": {},
     "output_type": "execute_result"
    }
   ],
   "source": [
    "tweets[0:5]"
   ]
  },
  {
   "cell_type": "code",
   "execution_count": 93,
   "metadata": {},
   "outputs": [
    {
     "name": "stdout",
     "output_type": "stream",
     "text": [
      "Positive tweets percentage: 15.0 %\n"
     ]
    }
   ],
   "source": [
    "# picking positive tweets from tweets \n",
    "ptweets = [tweet for tweet in tweets if tweet['sentiment'] == 'positive'] \n",
    "# percentage of positive tweets \n",
    "print(\"Positive tweets percentage: {} %\".format(100*len(ptweets)/len(tweets))) "
   ]
  },
  {
   "cell_type": "code",
   "execution_count": 94,
   "metadata": {},
   "outputs": [
    {
     "name": "stdout",
     "output_type": "stream",
     "text": [
      "Negative tweets percentage: 7.0 %\n"
     ]
    }
   ],
   "source": [
    "# picking negative tweets from tweets \n",
    "ntweets = [tweet for tweet in tweets if tweet['sentiment'] == 'negative'] \n",
    "# percentage of negative tweets \n",
    "print(\"Negative tweets percentage: {} %\".format(100*len(ntweets)/len(tweets))) "
   ]
  },
  {
   "cell_type": "code",
   "execution_count": 95,
   "metadata": {},
   "outputs": [
    {
     "name": "stdout",
     "output_type": "stream",
     "text": [
      "Neutral tweets percentage: 78.0 %\n"
     ]
    }
   ],
   "source": [
    "# percentage of neutral tweets \n",
    "neutweets =[tweet for tweet in tweets if tweet['sentiment'] == 'neutral'] \n",
    "print(\"Neutral tweets percentage: {} %\".format(100*(len(tweets) - len(ntweets) - len(ptweets))/len(tweets))) "
   ]
  },
  {
   "cell_type": "code",
   "execution_count": 96,
   "metadata": {},
   "outputs": [
    {
     "name": "stdout",
     "output_type": "stream",
     "text": [
      "                 0\n",
      "ptweets         15\n",
      "ntweets          7\n",
      "neutral_tweets  78\n"
     ]
    }
   ],
   "source": [
    "df_tweets_cnt = pd.DataFrame(pd.concat([pd.Series(len(ptweets)), pd.Series(len(ntweets)), pd.Series(len(neutweets))],axis=0 ))\n",
    "df_tweets_cnt.set_index(pd.Series(['ptweets', 'ntweets', 'neutral_tweets']), inplace=True)\n",
    "print(df_tweets_cnt)"
   ]
  },
  {
   "cell_type": "code",
   "execution_count": 97,
   "metadata": {},
   "outputs": [
    {
     "name": "stdout",
     "output_type": "stream",
     "text": [
      "\n",
      "\n",
      "Positive tweets:\n",
      "RT Smile for the cameras You just became a trend binod\n",
      "Thanks\n",
      "ItsViral Police departments Paytm Tinder add smart twist to bizarrely hilarious Binod Twitter trend\n",
      "RT asimsquad Just want ro say a magical word BINODDilKoMaineDiKasamTeaser\n",
      "He is responsible for trending binod\n",
      "RT Dear binod we hope your name is not your online password Its pretty viral change it now OnlineSafety\n",
      "RT Rise We just received a confirmed participation from Binod Damn bahadurikosalaam riseup india\n",
      "RT Dear binod we know you have gone very viral But your safety is important corona is more famous than you so stay home\n",
      "Binod spotted for real this time binod\n",
      "Paytm new tagline Binod karo\n"
     ]
    }
   ],
   "source": [
    "# printing first 10 positive tweets \n",
    "print(\"\\n\\nPositive tweets:\") \n",
    "for tweet in ptweets[:10]: \n",
    "    print(clean_tweet(tweet['text'])) "
   ]
  },
  {
   "cell_type": "code",
   "execution_count": 98,
   "metadata": {},
   "outputs": [
    {
     "name": "stdout",
     "output_type": "stream",
     "text": [
      "\n",
      "\n",
      "Negative tweets:\n",
      "@faizy_nated Who is that bloody binod😑\n",
      "RT @RahulTy53232810: #MumbaiPolice has time and interest to react on #binod but are not capable to investigate the case of #SushantSinghRaj…\n",
      "#MumbaiPolice has time and interest to react on #binod but are not capable to investigate the case of… https://t.co/mbyMWAArdC\n",
      "@TheRatanRoyal ☑️````````````````````````````````````````````````1% of people are addicted to exercise.\n",
      "@iamharshbeniwal @SlayyPoint Sahi Bola apne mere BHI subscribers bol rahe hai ke binod ke uppar video banao\n",
      "@SoTheyShudSpeak @SlayyPoint That's really sad Binod. Hope everyone gets to know.\n",
      "@swwapniljoshi It all started when a video about weird comments was uploaded on the YouTube channel Slayy Point. Ca… https://t.co/YZsq6YbSRq\n"
     ]
    }
   ],
   "source": [
    "# printing first 10 negative tweets \n",
    "print(\"\\n\\nNegative tweets:\") \n",
    "for tweet in ntweets[:10]: \n",
    "    \n",
    "    print(tweet['text']) "
   ]
  },
  {
   "cell_type": "code",
   "execution_count": 99,
   "metadata": {},
   "outputs": [
    {
     "name": "stdout",
     "output_type": "stream",
     "text": [
      "\n",
      "\n",
      "nuetral_tweets:\n",
      "Yeh binod kon hai https://t.co/qUFFZXgtki\n",
      "@innerchildjoo binod\n",
      "Can y'all tell me who is binod?😏 https://t.co/RnF0Bske4i\n",
      "#binod #mickey1702 #meme #memes #india #indianmemes\n",
      "Binod kon hai? 😂 https://t.co/8LR0kLoLbB\n",
      "RT @thewittydoctor_: Binod is a medical student 😯\n",
      "#medtwitter https://t.co/y9BUmMOnQh\n",
      "Ab jake mila gaya apna naam comment krne wala Binod\n",
      "#binod #binodmemes #BinodArmy #Binodians https://t.co/wCHjsUtyLd\n",
      "RT @himanshkohli: I hope all of you are having a #binod-ful day. 😂😂\n",
      "#BinodBewafaHai\n",
      "RT @mr_invincible__: #binod fans hit rt\n",
      "\n",
      "#DilKoMaineDiKasamTeaser\n",
      "Bro jinni importance binod ko mili hai utni kabhi mujhay bhi nahi mili🙄😂😂😂😂\n",
      "who's binod??? educate me pleaseee\n"
     ]
    }
   ],
   "source": [
    "# printing first 10 negative tweets \n",
    "print(\"\\n\\nnuetral_tweets:\") \n",
    "for tweet in neutweets[:10]: \n",
    "    print(tweet['text']) "
   ]
  },
  {
   "cell_type": "code",
   "execution_count": 100,
   "metadata": {},
   "outputs": [
    {
     "data": {
      "text/plain": [
       "<matplotlib.axes._subplots.AxesSubplot at 0xd50bcc0>"
      ]
     },
     "execution_count": 100,
     "metadata": {},
     "output_type": "execute_result"
    },
    {
     "data": {
      "image/png": "[encoded data removed]",
      "text/plain": [
       "<Figure size 432x288 with 1 Axes>"
      ]
     },
     "metadata": {
      "needs_background": "light"
     },
     "output_type": "display_data"
    }
   ],
   "source": [
    "df_tweets_cnt.plot(kind='bar')"
   ]
  },
  {
   "cell_type": "code",
   "execution_count": null,
   "metadata": {},
   "outputs": [],
   "source": []
  }
 ],
 "metadata": {
  "kernelspec": {
   "display_name": "Python 3",
   "language": "python",
   "name": "python3"
  },
  "language_info": {
   "codemirror_mode": {
    "name": "ipython",
    "version": 3
   },
   "file_extension": ".py",
   "mimetype": "text/x-python",
   "name": "python",
   "nbconvert_exporter": "python",
   "pygments_lexer": "ipython3",
   "version": "3.7.3"
  }
 },
 "nbformat": 4,
 "nbformat_minor": 2
}
